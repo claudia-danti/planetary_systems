{
 "cells": [
  {
   "cell_type": "code",
   "execution_count": null,
   "metadata": {},
   "outputs": [],
   "source": [
    "\n",
    "%load_ext autoreload \n",
    "%autoreload 2\n",
    "%matplotlib widget\n",
    "%matplotlib inline\n",
    "import cProfile #for checking the nr of calls and execution time\n",
    "import pstats\n",
    "from pstats import SortKey\n",
    "\n",
    "from tqdm.notebook import tqdm\n",
    "import numpy as np\n",
    "import multiple_planets_gas_acc as code_gas\n",
    "from functions_pebble_accretion import *\n",
    "from functions import *\n",
    "import functions_plotting as plot\n",
    "import matplotlib.pyplot as plt\n",
    "import matplotlib as mpl\n",
    "import astropy.units as u\n",
    "import pandas as pd\n",
    "from matplotlib.ticker import ScalarFormatter, LogFormatter, LogLocator, MultipleLocator, AutoMinorLocator\n",
    "from matplotlib import cm, ticker\n",
    "from matplotlib import colors\n",
    "import matplotlib.gridspec as gridspec\n",
    "import matplotlib.patches as patch\n",
    "from matplotlib.offsetbox import AnchoredText\n",
    "from matplotlib.patches import Patch\n",
    "from matplotlib.lines import Line2D\n",
    "import matplotlib.lines as mlines \n",
    "\n"
   ]
  },
  {
   "cell_type": "code",
   "execution_count": null,
   "metadata": {},
   "outputs": [],
   "source": [
    "# disc parameters\n",
    "params_dict = {'St_const': None, \n",
    "               'iceline_radius': None,\n",
    "                'alpha': 1e-2,\n",
    "                'alpha_z': 1e-4, \n",
    "                'alpha_frag': 1e-4, \n",
    "                'epsilon_el': 1e-2,\n",
    "                'epsilon_heat':0.5,\n",
    "                'v_frag': (1 * u.m/u.s).to(u.au/u.Myr).value,\n",
    "                'M_dot_gas_star': \"star_mass_linear\",\n",
    "                }\n",
    "params = code_gas.Params(**params_dict, H_r_model='irradiated')\n",
    "\n",
    "Nsteps = 5000\n",
    "a_p0 = np.geomspace(1,1, num = 1)\n",
    "t0 = 0.1 #Myr\n",
    "t_in = 0.1 #Myr\n",
    "t_fin = 3.0 #Myr\n",
    "sigma_gas = sigma_gas_steady_state(a_p0, t0, params)\n",
    "m0 = M0_pla_Mstar(a_p0, t0, sigma_gas, params)\n",
    "\n",
    "a_p0 = np.array([a_p0])\n",
    "m_0 = np.array([m0])\n",
    "t0 = np.array([t0])\n",
    "\n",
    "sim_params_dict = {'N_step': Nsteps,\n",
    "                'm0': m_0,\n",
    "                'a_p0': a_p0,\n",
    "                't0': t0,\n",
    "                't_fin': t_fin,\n",
    "            }\n",
    "\n",
    "sim_params = code_gas.SimulationParams(**sim_params_dict)\n",
    "peb_acc = code_gas.PebbleAccretion(simplified_acc=False)\n",
    "gas_acc = code_gas.GasAccretion()"
   ]
  },
  {
   "cell_type": "code",
   "execution_count": null,
   "metadata": {},
   "outputs": [],
   "source": [
    "cProfile.run(\n",
    "    'sim = code_gas.simulate_euler(migration=True, filtering=False,  peb_acc=peb_acc, gas_acc=gas_acc, ' \\\n",
    "    'params=params, sim_params=sim_params, output_folder=\"sims/gas_acc/test/speed_up\")',\n",
    "    'profile_results.prof'\n",
    ")"
   ]
  },
  {
   "cell_type": "code",
   "execution_count": null,
   "metadata": {},
   "outputs": [],
   "source": [
    "stats = pstats.Stats('profile_results.prof')\n",
    "stats.strip_dirs()\n",
    "stats.sort_stats('call')  # Sort by time\n",
    "stats.print_stats(100)  "
   ]
  },
  {
   "cell_type": "code",
   "execution_count": null,
   "metadata": {},
   "outputs": [],
   "source": [
    "%prun sim = code_gas.simulate_euler(migration=True, filtering=False, peb_acc=peb_acc, gas_acc=gas_acc, params=params, sim_params=sim_params, output_folder=\"sims/gas_acc/test/speed_up\")\n"
   ]
  },
  {
   "cell_type": "code",
   "execution_count": null,
   "metadata": {},
   "outputs": [],
   "source": []
  }
 ],
 "metadata": {
  "kernelspec": {
   "display_name": "base",
   "language": "python",
   "name": "python3"
  },
  "language_info": {
   "codemirror_mode": {
    "name": "ipython",
    "version": 3
   },
   "file_extension": ".py",
   "mimetype": "text/x-python",
   "name": "python",
   "nbconvert_exporter": "python",
   "pygments_lexer": "ipython3",
   "version": "3.9.21"
  }
 },
 "nbformat": 4,
 "nbformat_minor": 2
}
